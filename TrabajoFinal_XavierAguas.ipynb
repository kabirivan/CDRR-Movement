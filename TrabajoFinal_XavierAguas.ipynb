{
 "cells": [
  {
   "cell_type": "markdown",
   "metadata": {},
   "source": [
    "# Trabajo Final - Curso Introductorio a Python\n",
    "## Movimiento de un robot paralelo accionado por cuatro cables\n",
    "\n",
    "-  **Nombre:** Xavier Ivan Aguas Haro\n",
    "-  **email:** xavieraguas03@gmail.com\n",
    "\n",
    "<div style=\"text-align: justify\">  \n",
    "    Los robots accionados por cables son una clase especial de robots paralelos, los cuales están formados al reemplazar los enlaces rígidos por cables. Gracias a las características físicas que otorgan los cables como baja inercia y mayor rango de movimiento en comparación con las articulaciones esféricas, les permite ser excelentes candidatos para realizar una amplia gama de aplicaciones porque poseen ventajas como: manipulación de objetos a alta velocidad, carga útil alta, bajo costo de instalación y mantenimiento.\n",
    "</div>  \n",
    "    \n",
    "<img src=\"RobotCables.png\" alt=\"drawing\" style=\"width:500px;\"/>    \n",
    "\n",
    "\n",
    "Consta de 3 elementos importantes:\n",
    "\n",
    "* Espacio de trabajo o base\n",
    "* Actuadores o motores\n",
    "* Efector final\n",
    "\n",
    "\n",
    "Para realizar este estudio se utilizo los siguientes requerimientos\n",
    "- Python 3.7\n",
    "- Pandas *(Latest Version)*\n",
    "- Numpy *(Latest Version)*\n",
    "\n",
    "\n",
    "### Objetivo:\n",
    "\n",
    "Identificar el movimiento del robot accionado por cuatro cables en el plano xy. Dibujar el desempeño en el **eje x** y **eje y**. Además mostrar el error en función del tiempo a través del **índice del error cuadratico**. Realizar el procedimiento anterior para dos figuras. "
   ]
  },
  {
   "cell_type": "markdown",
   "metadata": {},
   "source": [
    "> Importar librerias"
   ]
  },
  {
   "cell_type": "markdown",
   "metadata": {},
   "source": []
  },
  {
   "cell_type": "code",
   "execution_count": 25,
   "metadata": {},
   "outputs": [],
   "source": [
    "import pandas as pd\n",
    "import numpy as np"
   ]
  },
  {
   "cell_type": "markdown",
   "metadata": {},
   "source": [
    "> Leer CSV de la figura 1"
   ]
  },
  {
   "cell_type": "code",
   "execution_count": 26,
   "metadata": {},
   "outputs": [],
   "source": [
    "square_figure = pd.read_csv(\"cddr_square.csv\")"
   ]
  },
  {
   "cell_type": "code",
   "execution_count": null,
   "metadata": {},
   "outputs": [],
   "source": []
  }
 ],
 "metadata": {
  "kernelspec": {
   "display_name": "Python 3.7.3 64-bit",
   "language": "python",
   "name": "python37364bit7e8772a4a7254f1c83bff7a3d8a27d82"
  },
  "language_info": {
   "codemirror_mode": {
    "name": "ipython",
    "version": 3
   },
   "file_extension": ".py",
   "mimetype": "text/x-python",
   "name": "python",
   "nbconvert_exporter": "python",
   "pygments_lexer": "ipython3",
   "version": "3.7.3"
  }
 },
 "nbformat": 4,
 "nbformat_minor": 4
}
